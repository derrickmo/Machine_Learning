{
 "cells": [
  {
   "cell_type": "code",
   "execution_count": 1,
   "metadata": {},
   "outputs": [],
   "source": [
    "# import libraries\n",
    "import torch\n",
    "import torch.nn as nn\n",
    "import matplotlib.pyplot as plt\n",
    "import numpy as np"
   ]
  },
  {
   "cell_type": "code",
   "execution_count": 2,
   "metadata": {},
   "outputs": [
    {
     "data": {
      "text/plain": [
       "(torch.Size([2000, 2]), torch.Size([2000, 1]))"
      ]
     },
     "execution_count": 2,
     "metadata": {},
     "output_type": "execute_result"
    }
   ],
   "source": [
    "N = 2000\n",
    "data = torch.randint(low=-10,high=11,size=(N,2)).float()\n",
    "labels = torch.sum(data,axis=1,keepdim=True)\n",
    "\n",
    "data.shape, labels.shape"
   ]
  },
  {
   "cell_type": "code",
   "execution_count": 3,
   "metadata": {},
   "outputs": [],
   "source": [
    "def create_model():\n",
    "    Addclassify = nn.Sequential(\n",
    "        nn.Linear(2,30),\n",
    "        nn.ReLU(),\n",
    "        nn.Linear(30,1),\n",
    "        nn.ReLU(),\n",
    "        nn.Linear(1,1)\n",
    "    )\n",
    "\n",
    "    loss_fun = nn.MSELoss()\n",
    "\n",
    "    optimizer = torch.optim.Adam(Addclassify.parameters(), lr=.01)\n",
    "\n",
    "    return Addclassify, loss_fun, optimizer"
   ]
  },
  {
   "cell_type": "code",
   "execution_count": 8,
   "metadata": {},
   "outputs": [],
   "source": [
    "epochs = 10\n",
    "\n",
    "def train_model(model):\n",
    "    losses = torch.zeros(epochs)\n",
    "    for i in range(epochs):\n",
    "        num_loss = []\n",
    "        for X, y in zip(data, labels):\n",
    "            y_hat = model(X)\n",
    "            loss = loss_fun(y_hat, y)\n",
    "            num_loss.append(loss.item())\n",
    "\n",
    "            optimizer.zero_grad()\n",
    "            loss.backward()\n",
    "            optimizer.step()\n",
    "        \n",
    "        losses[i] = np.mean(num_loss)\n",
    "\n",
    "        with torch.no_grad():\n",
    "            predictions = model(data)\n",
    "\n",
    "        train_acc = 100 * torch.mean((np.abs(predictions-labels)<1).float())\n",
    "\n",
    "        test_data = torch.randint(low=-10, high=11, size=(N,2)).float()\n",
    "        test_labels = torch.sum(test_data, axis=1, keepdim=True)\n",
    "\n",
    "        with torch.no_grad():\n",
    "            predictions = model(test_data)\n",
    "        test_acc = 100 * torch.mean((np.abs(predictions - test_labels)<1).float())\n",
    "\n",
    "        return loss, train_acc, test_acc, model"
   ]
  },
  {
   "cell_type": "code",
   "execution_count": 29,
   "metadata": {},
   "outputs": [
    {
     "name": "stdout",
     "output_type": "stream",
     "text": [
      "Model No.1, TRAIN/TEST accuracies: 79.85, 79.20\n",
      "Model No.2, TRAIN/TEST accuracies: 81.55, 82.65\n",
      "Model No.3, TRAIN/TEST accuracies: 79.85, 78.50\n",
      "Model No.4, TRAIN/TEST accuracies: 77.55, 77.65\n",
      "Model No.5, TRAIN/TEST accuracies: 72.05, 75.35\n",
      "Model No.6, TRAIN/TEST accuracies: 9.45, 8.90\n",
      "Model No.7, TRAIN/TEST accuracies: 9.45, 9.75\n",
      "Model No.8, TRAIN/TEST accuracies: 82.05, 81.20\n",
      "Model No.9, TRAIN/TEST accuracies: 60.40, 61.35\n",
      "Model No.10, TRAIN/TEST accuracies: 9.45, 9.05\n"
     ]
    }
   ],
   "source": [
    "for i in range(10):\n",
    "\n",
    "  model, loss_fun, optimizer = create_model()\n",
    "  _,train_acc, test_acc, ADDmodel = train_model(model)\n",
    "\n",
    "  print(f'Model No.{i+1}, TRAIN/TEST accuracies: {train_acc:.2f}, {test_acc:.2f}')"
   ]
  }
 ],
 "metadata": {
  "kernelspec": {
   "display_name": "base",
   "language": "python",
   "name": "python3"
  },
  "language_info": {
   "codemirror_mode": {
    "name": "ipython",
    "version": 3
   },
   "file_extension": ".py",
   "mimetype": "text/x-python",
   "name": "python",
   "nbconvert_exporter": "python",
   "pygments_lexer": "ipython3",
   "version": "3.9.13"
  }
 },
 "nbformat": 4,
 "nbformat_minor": 2
}
